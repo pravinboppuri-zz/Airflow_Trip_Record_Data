{
 "cells": [
  {
   "cell_type": "code",
   "execution_count": 48,
   "metadata": {},
   "outputs": [],
   "source": [
    "import pyspark\n",
    "from pyspark import SparkConf, SparkContext\n",
    "from pyspark.sql import SparkSession\n",
    "from pyspark.sql import SQLContext\n",
    "from pyspark.sql.types import *\n",
    "import sys\n",
    "import os\n",
    "from pyspark.sql.window import Window\n",
    "from pyspark.sql import functions as func\n",
    "from pyspark.sql.functions import *"
   ]
  },
  {
   "cell_type": "code",
   "execution_count": 7,
   "metadata": {},
   "outputs": [],
   "source": [
    "os.environ['PYSPARK_SUBMIT_ARGS'] = '--packages com.amazonaws:aws-java-sdk:1.7.4,org.apache.hadoop:hadoop-aws:2.7.2 pyspark-shell'\n",
    "\n",
    "#sc = SparkContext()\n",
    "sc= SparkContext.getOrCreate()\n",
    "sqlContext = SQLContext(sc)\n",
    "\n",
    "#sc = pyspark.SparkContext(conf = conf)\n",
    "hadoop_conf = sc._jsc.hadoopConfiguration()\n",
    "hadoop_conf.set(\"fs.s3.impl\", \"org.apache.hadoop.fs.s3a.S3AFileSystem\")\n",
    "hadoop_conf.set(\"fs.s3a.access.key\", \"\")\n",
    "hadoop_conf.set(\"fs.s3a.secret.key\", \"\")\n",
    "\n",
    "hadoop_conf.set(\"fs.s3n.awsAccessKeyId\", \"\")\n",
    "hadoop_conf.set(\"fs.s3n.awsSecretAccessKey\", \"\")"
   ]
  },
  {
   "cell_type": "code",
   "execution_count": 8,
   "metadata": {},
   "outputs": [],
   "source": [
    "source_df = sqlContext.read.load('/home/bella/airflow/yellow_tripdata_2017-02.csv',\n",
    "                                format='com.databricks.spark.csv',\n",
    "                                header='true',\n",
    "                                 inferSchema='true')"
   ]
  },
  {
   "cell_type": "code",
   "execution_count": 12,
   "metadata": {
    "scrolled": true
   },
   "outputs": [
    {
     "name": "stdout",
     "output_type": "stream",
     "text": [
      "root\n",
      " |-- VendorID: integer (nullable = true)\n",
      " |-- tpep_pickup_datetime: timestamp (nullable = true)\n",
      " |-- tpep_dropoff_datetime: timestamp (nullable = true)\n",
      " |-- passenger_count: integer (nullable = true)\n",
      " |-- trip_distance: double (nullable = true)\n",
      " |-- RatecodeID: integer (nullable = true)\n",
      " |-- store_and_fwd_flag: string (nullable = true)\n",
      " |-- PULocationID: integer (nullable = true)\n",
      " |-- DOLocationID: integer (nullable = true)\n",
      " |-- payment_type: integer (nullable = true)\n",
      " |-- fare_amount: double (nullable = true)\n",
      " |-- extra: double (nullable = true)\n",
      " |-- mta_tax: double (nullable = true)\n",
      " |-- tip_amount: double (nullable = true)\n",
      " |-- tolls_amount: double (nullable = true)\n",
      " |-- improvement_surcharge: double (nullable = true)\n",
      " |-- total_amount: double (nullable = true)\n",
      "\n"
     ]
    }
   ],
   "source": [
    "source_df.printSchema()"
   ]
  },
  {
   "cell_type": "code",
   "execution_count": 56,
   "metadata": {},
   "outputs": [],
   "source": [
    "DF = source_df.select(source_df['trip_distance'],month(source_df['tpep_dropoff_datetime']).alias('month'),year(source_df['tpep_dropoff_datetime']).alias('year'))"
   ]
  },
  {
   "cell_type": "code",
   "execution_count": 57,
   "metadata": {},
   "outputs": [
    {
     "name": "stdout",
     "output_type": "stream",
     "text": [
      "+-------------+-----+----+\n",
      "|trip_distance|month|year|\n",
      "+-------------+-----+----+\n",
      "|3.29         |2    |2017|\n",
      "|2.8          |2    |2017|\n",
      "|0.9          |2    |2017|\n",
      "|0.72         |2    |2017|\n",
      "|1.1          |2    |2017|\n",
      "+-------------+-----+----+\n",
      "only showing top 5 rows\n",
      "\n"
     ]
    }
   ],
   "source": [
    "DF.show(5,truncate=False)"
   ]
  },
  {
   "cell_type": "code",
   "execution_count": 67,
   "metadata": {},
   "outputs": [],
   "source": [
    "monthly_avg= DF.groupby('month','year')\\\n",
    ".agg(func.avg('trip_distance').alias('avg_trip_distance'))\\\n",
    ".orderBy('month','year')"
   ]
  },
  {
   "cell_type": "code",
   "execution_count": 66,
   "metadata": {},
   "outputs": [
    {
     "name": "stdout",
     "output_type": "stream",
     "text": [
      "+-----+----+------------------+\n",
      "|month|year| avg_trip_distance|\n",
      "+-----+----+------------------+\n",
      "|    1|2017|              2.25|\n",
      "|    3|2017| 6.050590961761299|\n",
      "|    2|2017|2.8002866531663693|\n",
      "+-----+----+------------------+\n",
      "\n"
     ]
    }
   ],
   "source": [
    "monthly_avg.show()"
   ]
  },
  {
   "cell_type": "code",
   "execution_count": 69,
   "metadata": {},
   "outputs": [],
   "source": [
    "DF_1 = source_df.select(source_df['trip_distance'],month(source_df['tpep_dropoff_datetime']).alias('month'),year(source_df['tpep_dropoff_datetime']).alias('year'),source_df['tpep_dropoff_datetime'])"
   ]
  },
  {
   "cell_type": "code",
   "execution_count": 70,
   "metadata": {},
   "outputs": [
    {
     "name": "stdout",
     "output_type": "stream",
     "text": [
      "+-------------+-----+----+---------------------+\n",
      "|trip_distance|month|year|tpep_dropoff_datetime|\n",
      "+-------------+-----+----+---------------------+\n",
      "|         3.29|    2|2017|  2017-02-03 02:20:55|\n",
      "|          2.8|    2|2017|  2017-02-03 02:46:47|\n",
      "|          0.9|    2|2017|  2017-02-03 09:56:17|\n",
      "|         0.72|    2|2017|  2017-02-03 04:52:41|\n",
      "|          1.1|    2|2017|  2017-02-03 12:16:14|\n",
      "+-------------+-----+----+---------------------+\n",
      "only showing top 5 rows\n",
      "\n"
     ]
    }
   ],
   "source": [
    "DF_1.show(5)"
   ]
  },
  {
   "cell_type": "code",
   "execution_count": 71,
   "metadata": {},
   "outputs": [],
   "source": [
    "days =lambda i:i*86400"
   ]
  },
  {
   "cell_type": "code",
   "execution_count": 76,
   "metadata": {},
   "outputs": [],
   "source": [
    "window_spec =Window.orderBy(func.col(\"tpep_dropoff_datetime\").cast('long')).rangeBetween(-days(45),0)"
   ]
  },
  {
   "cell_type": "code",
   "execution_count": 77,
   "metadata": {},
   "outputs": [],
   "source": [
    "rolling_avg=DF_1.withColumn('rolling_avg',func.avg('trip_distance').over(window_spec))"
   ]
  },
  {
   "cell_type": "code",
   "execution_count": 78,
   "metadata": {},
   "outputs": [
    {
     "name": "stdout",
     "output_type": "stream",
     "text": [
      "+-------------+-----+----+---------------------+------------------+\n",
      "|trip_distance|month|year|tpep_dropoff_datetime|       rolling_avg|\n",
      "+-------------+-----+----+---------------------+------------------+\n",
      "|          1.4|    1|2017|  2017-01-24 15:39:43|               1.4|\n",
      "|          3.1|    1|2017|  2017-01-26 15:34:18|              2.25|\n",
      "|          0.0|    2|2017|  2017-02-01 00:00:57|               1.5|\n",
      "|          0.0|    2|2017|  2017-02-01 00:01:28|             1.125|\n",
      "|         0.32|    2|2017|  2017-02-01 00:01:55|0.8033333333333333|\n",
      "+-------------+-----+----+---------------------+------------------+\n",
      "only showing top 5 rows\n",
      "\n"
     ]
    }
   ],
   "source": [
    "rolling_avg.show(5)"
   ]
  },
  {
   "cell_type": "code",
   "execution_count": 79,
   "metadata": {},
   "outputs": [],
   "source": [
    "sc.stop()"
   ]
  },
  {
   "cell_type": "code",
   "execution_count": null,
   "metadata": {},
   "outputs": [],
   "source": []
  }
 ],
 "metadata": {
  "kernelspec": {
   "display_name": "Python 3",
   "language": "python",
   "name": "python3"
  },
  "language_info": {
   "codemirror_mode": {
    "name": "ipython",
    "version": 3
   },
   "file_extension": ".py",
   "mimetype": "text/x-python",
   "name": "python",
   "nbconvert_exporter": "python",
   "pygments_lexer": "ipython3",
   "version": "3.5.2"
  }
 },
 "nbformat": 4,
 "nbformat_minor": 2
}
